{
 "cells": [
  {
   "cell_type": "markdown",
   "metadata": {},
   "source": [
    "# Study of reliability of loan applicants\n",
    "\n",
    "## Project Description\n",
    "\n",
    "The customer is a credit department of a bank. We need to find out whether the marital status and the number of children of the client affects the fact of repayment of the loan on time. Input data from the bank - statistics on the solvency of clients.\n",
    "\n",
    "The results of the research will be taken into account when building a model of **credit scoring** - a special system that assesses the ability of a potential borrower to repay the loan to the bank."
   ]
  },
  {
   "cell_type": "markdown",
   "metadata": {},
   "source": [
    "## Data description\n",
    "\n",
    " - children - number of children in the family\n",
    " - days_employed - total length of service in days\n",
    " - dob_years - client's age in years\n",
    " - education - client's education level\n",
    " - education_id - education level identifier\n",
    " - family_status - marital status\n",
    " - family_status_id - family status identifier\n",
    " - gender - client's gender\n",
    " - income_type - type of employment\n",
    " - debt - whether the client had debts on loan repayment\n",
    " - total_income - monthly income\n",
    " - purpose - purpose of obtaining a loan"
   ]
  },
  {
   "cell_type": "markdown",
   "metadata": {},
   "source": [
    "### Step 1. File the data file and review the general information. "
   ]
  },
  {
   "cell_type": "code",
   "execution_count": 1,
   "metadata": {},
   "outputs": [
    {
     "name": "stdout",
     "output_type": "stream",
     "text": [
      "                                0                        1                2\n",
      "children                        1                        1                0\n",
      "days_employed            -8437.67                  -4024.8         -5623.42\n",
      "dob_years                      42                       36               33\n",
      "education                  высшее                  среднее          Среднее\n",
      "education_id                    0                        1                1\n",
      "family_status     женат / замужем          женат / замужем  женат / замужем\n",
      "family_status_id                0                        0                0\n",
      "gender                          F                        F                M\n",
      "income_type             сотрудник                сотрудник        сотрудник\n",
      "debt                            0                        0                0\n",
      "total_income               253876                   112080           145886\n",
      "purpose             покупка жилья  приобретение автомобиля    покупка жилья\n",
      "\n",
      "\n",
      "\n",
      "<class 'pandas.core.frame.DataFrame'>\n",
      "RangeIndex: 21525 entries, 0 to 21524\n",
      "Data columns (total 12 columns):\n",
      "children            21525 non-null int64\n",
      "days_employed       19351 non-null float64\n",
      "dob_years           21525 non-null int64\n",
      "education           21525 non-null object\n",
      "education_id        21525 non-null int64\n",
      "family_status       21525 non-null object\n",
      "family_status_id    21525 non-null int64\n",
      "gender              21525 non-null object\n",
      "income_type         21525 non-null object\n",
      "debt                21525 non-null int64\n",
      "total_income        19351 non-null float64\n",
      "purpose             21525 non-null object\n",
      "dtypes: float64(2), int64(5), object(5)\n",
      "memory usage: 2.0+ MB\n",
      "None\n",
      "\n",
      "\n",
      "\n",
      "children               0\n",
      "days_employed       2174\n",
      "dob_years              0\n",
      "education              0\n",
      "education_id           0\n",
      "family_status          0\n",
      "family_status_id       0\n",
      "gender                 0\n",
      "income_type            0\n",
      "debt                   0\n",
      "total_income        2174\n",
      "purpose                0\n",
      "dtype: int64\n"
     ]
    }
   ],
   "source": [
    "import pandas as pd\n",
    "data = pd.read_csv(r'C:\\Users\\Asus\\Documents\\Python Scripts\\github praktikum\\01 Предобработка данных\\real_state_analys_project_1.csv')\n",
    "\n",
    "print (data.head(3).T)\n",
    "print(\"\\n\\n\")\n",
    "print(data.info())\n",
    "\n",
    "print(\"\\n\\n\")\n",
    "print(data.isna().sum())"
   ]
  },
  {
   "cell_type": "code",
   "execution_count": 23,
   "metadata": {},
   "outputs": [],
   "source": [
    "from IPython.display import FileLink, FileLinks\n",
    "\n",
    "data.to_csv('data project 1.csv', index=False)"
   ]
  },
  {
   "cell_type": "markdown",
   "metadata": {},
   "source": [
    "### Output"
   ]
  },
  {
   "cell_type": "markdown",
   "metadata": {},
   "source": [
    "There are 12 columns and 21525 rows in the dataset. At first glance there are no correct observations in the column \"Length of service\", negative values, as well as in the columns 'days_employed' and 'total_income' less number of observations, which suggests that these columns have missing values to analyze and make decisions about their removal or filling. The number of missing values is 2174."
   ]
  },
  {
   "cell_type": "markdown",
   "metadata": {},
   "source": [
    "### Step 2: Data preprocessing"
   ]
  },
  {
   "cell_type": "code",
   "execution_count": 4,
   "metadata": {},
   "outputs": [
    {
     "name": "stdout",
     "output_type": "stream",
     "text": [
      "Доля пропушеных строк в столбце \"стаж работы\": 10.1%\n",
      "Доля пропушеных строк в столбце \"доход\": 10.1%\n",
      "\n",
      "Прверка совпадения индексов в столбцах days_employed и total_income\n",
      "True\n",
      "\n",
      "Количество отрицательных строк в столбце стажа работы: 15906.0\n",
      "Максимальное отрицательное значение в столбце стажа работы: -24.14\n",
      "Минимальное отрицательное значение в столбце стажа работы: -18388.95\n",
      "Средное отрицательное значение в столбце стажа работы: -2353.02\n",
      "3445\n"
     ]
    }
   ],
   "source": [
    "# Select only rows with NaN values\n",
    "data_nan =  data[data.isna().any(axis=1)]\n",
    "data_nan.head()\n",
    "\n",
    "# Determine changes with the fraction of missing values per column\n",
    "part_nan_days_employed = len(data_nan['days_employed']) / len(data)\n",
    "part_nan_income = len(data_nan['total_income'])/ len(data)\n",
    "\n",
    "print('Percentage of missing rows in the \"length of service\" column\": {:.1%}'.format(part_nan_days_employed)) \n",
    "print('Percentage of missing rows in the \"income\" column: {:.1%}'.format(part_nan_income))\n",
    "print()\n",
    "\n",
    "\n",
    "print('Check if the indexes in days_employed and total_income columns match')\n",
    "Nan_days_employed = pd.isnull(data['days_employed'])\n",
    "Nan_total_income = pd.isnull(data['total_income'])\n",
    "print((data[Nan_days_employed].index == data[Nan_total_income].index).all())\n",
    "print()\n",
    "\n",
    "negative_days_employed = data[data['days_employed'] <= 0]\n",
    "extra_days_employed = data[data['days_employed'] >= 50*365]\n",
    "print('Number of negative rows in the length of service column: {:.1f}'.format(len(negative_days_employed['days_employed'])))\n",
    "print('Maximum negative value in the length of service column: {:.2f}'.format(negative_days_employed['days_employed'].max()))\n",
    "print('Minimum negative value in the length of service column: {:.2f}'.format(negative_days_employed['days_employed'].min()))\n",
    "print('Average negative value in the work experience column: {:.2f}'.format(negative_days_employed['days_employed'].mean()))\n",
    "print(len(extra_days_employed))\n"
   ]
  },
  {
   "cell_type": "markdown",
   "metadata": {},
   "source": [
    "### Output\n",
    "\n",
    "Let's count the number of NaN and display it on the screen.<br>\n",
    "    Let's calculate the share of missing rows in columns 'days_employed' and 'total_income' and display them on the screen in percentages.\n",
    "The number and share of missing rows in the columns 'days_employed' and 'total_income' is large - 10% and they coincide, which suggests \n",
    "that these observations are not random and the missing value means that the person does not work and therefore has no\n",
    "a source of income. To verify the hypothesis, let's consider whether the indexes in all rows coincide. <br>\n",
    "    All indices coincide, accordingly, the hypothesis is confirmed and therefore we replace by the mean value..<br><br>\n",
    "    \n",
    "Proportion of missing rows in the \"length of service\" column: 10.1% <br>\n",
    "Percentage of missing rows in the \"income\" column: 10.1% <br><br>\n",
    "\n",
    "Check if the indexes in days_employed and total_income columns match <br><br>\n",
    "\n",
    "Number of negative rows in the length of service column:15906.0  <br>\n",
    "Maximum negative value in the length of service column:-24.14 <br>\n",
    "Minimum negative value in the length of service column:-18388.95<br>\n",
    "Average negative value in the work experience column:-2353.02. </font>"
   ]
  },
  {
   "cell_type": "markdown",
   "metadata": {},
   "source": [
    "### Обработка пропусков"
   ]
  },
  {
   "cell_type": "code",
   "execution_count": 7,
   "metadata": {},
   "outputs": [
    {
     "name": "stdout",
     "output_type": "stream",
     "text": [
      "children            0\n",
      "days_employed       0\n",
      "dob_years           0\n",
      "education           0\n",
      "education_id        0\n",
      "family_status       0\n",
      "family_status_id    0\n",
      "gender              0\n",
      "income_type         0\n",
      "debt                0\n",
      "total_income        0\n",
      "purpose             0\n",
      "dtype: int64\n"
     ]
    }
   ],
   "source": [
    "import numpy as np\n",
    "\n",
    "# Replacement negative values of the column of the work mode with positive values\n",
    "    \n",
    "data['days_employed'] =  np.abs(data['days_employed'])\n",
    "\n",
    "# Subtract the medians for which we replace the missing values\n",
    "median_days_employed = data['days_employed'].mean()\n",
    "median_total_income = data['total_income'].mean()\n",
    "\n",
    "data['days_employed'] = data['days_employed'].fillna(value = median_days_employed)\n",
    "data['total_income'] = data['total_income'].fillna(value= median_total_income)\n",
    "print(data.isna().sum())\n"
   ]
  },
  {
   "cell_type": "markdown",
   "metadata": {},
   "source": [
    "### Output"
   ]
  },
  {
   "cell_type": "markdown",
   "metadata": {},
   "source": [
    "The number and proportion of missing rows in the \"days_employed\" and \"total_income\" columns are high at 10% and they are the same, indicating that these observations are not random and the missing value means that the person is not working and therefore has no source of income. That these observations are not random and the missing value means that the person is not working and hence has no source of income.\n",
    "To test the hypothesis, consider whether the indices in all rows match. If all indices coincide, then the hypothesis is confirmed, hence we replace with the median.\n"
   ]
  },
  {
   "cell_type": "markdown",
   "metadata": {},
   "source": [
    "### Replacement of the type data"
   ]
  },
  {
   "cell_type": "code",
   "execution_count": 8,
   "metadata": {},
   "outputs": [],
   "source": [
    "data['days_employed'] = data['days_employed'].astype('int')\n",
    "data['total_income'] = data['total_income'].astype('int')"
   ]
  },
  {
   "cell_type": "markdown",
   "metadata": {},
   "source": [
    "### Output"
   ]
  },
  {
   "cell_type": "markdown",
   "metadata": {},
   "source": [
    "Real numbers in columns 'days_employed' and 'total_income', convert to integer type 'int' c using astype() method"
   ]
  },
  {
   "cell_type": "markdown",
   "metadata": {},
   "source": [
    "### Duplicate processing"
   ]
  },
  {
   "cell_type": "code",
   "execution_count": 9,
   "metadata": {},
   "outputs": [
    {
     "data": {
      "text/plain": [
       "54"
      ]
     },
     "execution_count": 9,
     "metadata": {},
     "output_type": "execute_result"
    }
   ],
   "source": [
    "#List of categorical columns\n",
    "cat_cols  = list(data.select_dtypes(include=['object']).columns)\n",
    "\n",
    "#List of numerical values\n",
    "num_cols   = [x for x in data.columns if x not in cat_cols]\n",
    "\n",
    "\n",
    "#String standardizations \n",
    "for row in cat_cols:\n",
    "    data[row].str.lower\n",
    "    \n",
    "# Number of duplicates\n",
    "data.duplicated().sum()\n",
    " "
   ]
  },
  {
   "cell_type": "code",
   "execution_count": 10,
   "metadata": {},
   "outputs": [
    {
     "data": {
      "text/plain": [
       "0"
      ]
     },
     "execution_count": 10,
     "metadata": {},
     "output_type": "execute_result"
    }
   ],
   "source": [
    "# Removing duplicates\n",
    "data = data.drop_duplicates().reset_index(drop=True)\n",
    "\n",
    "data.duplicated().sum()"
   ]
  },
  {
   "cell_type": "markdown",
   "metadata": {},
   "source": [
    "### Lemmatization"
   ]
  },
  {
   "cell_type": "code",
   "execution_count": 11,
   "metadata": {},
   "outputs": [
    {
     "name": "stdout",
     "output_type": "stream",
     "text": [
      "0                 [покупка,  , жилье, \\n]\n",
      "1       [приобретение,  , автомобиль, \\n]\n",
      "2                 [покупка,  , жилье, \\n]\n",
      "3    [дополнительный,  , образование, \\n]\n",
      "4               [сыграть,  , свадьба, \\n]\n",
      "Name: purpose_lemmas, dtype: object\n",
      "[автомобиль, \\n]                                          972\n",
      "[свадьба, \\n]                                             793\n",
      "[на,  , проведение,  , свадьба, \\n]                       773\n",
      "[сыграть,  , свадьба, \\n]                                 769\n",
      "[операция,  , с,  , недвижимость, \\n]                     675\n",
      "[покупка,  , коммерческий,  , недвижимость, \\n]           662\n",
      "[операция,  , с,  , жилье, \\n]                            652\n",
      "[покупка,  , жилье,  , для,  , сдача, \\n]                 652\n",
      "[операция,  , с,  , коммерческий,  , недвижимость, \\n]    650\n",
      "[покупка,  , жилье, \\n]                                   646\n",
      "[жилье, \\n]                                               646\n",
      "[покупка,  , жилье,  , для,  , семья, \\n]                 638\n",
      "[строительство,  , собственный,  , недвижимость, \\n]      635\n",
      "[недвижимость, \\n]                                        633\n",
      "[операция,  , со,  , свой,  , недвижимость, \\n]           627\n",
      "[строительство,  , жилой,  , недвижимость, \\n]            625\n",
      "[покупка,  , недвижимость, \\n]                            621\n",
      "[покупка,  , свой,  , жилье, \\n]                          620\n",
      "[строительство,  , недвижимость, \\n]                      619\n",
      "[ремонт,  , жилье, \\n]                                    607\n",
      "[покупка,  , жилой,  , недвижимость, \\n]                  606\n",
      "[на,  , покупка,  , свой,  , автомобиль, \\n]              505\n",
      "[заниматься,  , высокий,  , образование, \\n]              496\n",
      "[сделка,  , с,  , подержанный,  , автомобиль, \\n]         486\n",
      "[свой,  , автомобиль, \\n]                                 479\n",
      "[на,  , покупка,  , подержать,  , автомобиль, \\n]         478\n",
      "[на,  , покупка,  , автомобиль, \\n]                       472\n",
      "[приобретение,  , автомобиль, \\n]                         461\n",
      "[дополнительный,  , образование, \\n]                      460\n",
      "[сделка,  , с,  , автомобиль, \\n]                         455\n",
      "[высокий,  , образование, \\n]                             452\n",
      "[получение,  , дополнительный,  , образование, \\n]        447\n",
      "[образование, \\n]                                         447\n",
      "[получение,  , образование, \\n]                           442\n",
      "[профильный,  , образование, \\n]                          436\n",
      "[получение,  , высокий,  , образование, \\n]               426\n",
      "[заниматься,  , образование, \\n]                          408\n",
      "Name: purpose_lemmas, dtype: int64\n"
     ]
    }
   ],
   "source": [
    "\n",
    "from pymystem3 import Mystem\n",
    "m = Mystem()\n",
    "\n",
    "data['purpose_lemmas'] = data['purpose'].apply(m.lemmatize)\n",
    "print(data['purpose_lemmas'].head())   \n",
    "\n",
    "print(data['purpose_lemmas'].value_counts())"
   ]
  },
  {
   "cell_type": "markdown",
   "metadata": {},
   "source": [
    "### Output"
   ]
  },
  {
   "cell_type": "markdown",
   "metadata": {},
   "source": [
    "Creation a new column \"purpose_lemmas\" and saved the lemmas of the \"loan purpose\" column into it. I used aply and m.lemmatize method to find words in \"standard\" form to create categories of loan purposes."
   ]
  },
  {
   "cell_type": "markdown",
   "metadata": {},
   "source": [
    "### Data categorization"
   ]
  },
  {
   "cell_type": "code",
   "execution_count": 13,
   "metadata": {},
   "outputs": [
    {
     "name": "stdout",
     "output_type": "stream",
     "text": [
      "нeдвижимость    4461\n",
      "автокредит      4308\n",
      "образование     4014\n",
      "свадьба         2335\n",
      "Name: purpose_group, dtype: int64\n",
      "None \n",
      "\n",
      "\n",
      "взрозлые      16753\n",
      "молодые        3719\n",
      "пенсионеры      898\n",
      "Name: age_group, dtype: int64\n",
      "Неопределено \n",
      "\n",
      "\n",
      "срений           11748\n",
      "высокий           6159\n",
      "ниже средного     3564\n",
      "Name: income_group, dtype: int64\n",
      "Неопределено \n",
      "\n",
      "\n"
     ]
    }
   ],
   "source": [
    "# Splitting function by purpose of the loan\n",
    "def purpose_group (data):\n",
    "    if 'автомобиль' in data:\n",
    "        return'автокредит'\n",
    "    elif 'свадьба' in data:\n",
    "        return 'свадьба'\n",
    "    elif 'образование' in data:\n",
    "        return 'образование'\n",
    "    elif ('жилье' or  'недвижимость') in data:\n",
    "            return 'нeдвижимость'\n",
    "    #else:\n",
    "        #return 'Неопределено'\n",
    "    \n",
    "\"\"\"\"\n",
    "Returns the group by loan purpose using the rules:\n",
    "- 'real estate' when the word 'housing' and 'real estate' are present\"\n",
    "- 'автокредит' при наличии слова \"автомобиль\"\n",
    "- 'wedding' in the presence of the word 'wedding'\n",
    "- 'image' when the word 'image' is present\n",
    "    \"\"\"\n",
    "    \n",
    "# Age split function\n",
    "def age_group(age):\n",
    "    try:\n",
    "        if 0 < age < 18:\n",
    "            return 'дети'\n",
    "        elif 18 <= age <= 30:\n",
    "            return 'молодые'\n",
    "        elif  30 < age <= 64:\n",
    "            return 'взрозлые'\n",
    "        elif age > 64:\n",
    "            return'пенсионеры'\n",
    "    except:\n",
    "        return 'Неопределено'\n",
    "\n",
    "\"\"\"\"\n",
    "Returns the return group by the age value age, using the rules:\n",
    "- 'minors' for age < 18 years old\n",
    "- 'young' if age is more than 18 and less than 30, including 30\n",
    "- 'adults' when age is more than 30 and less than 64, including 64\n",
    "- 'pensioners' in all other cases\n",
    "\"\"\"\n",
    "# Income splitting function    \n",
    "def income_group (income):\n",
    "    try:\n",
    "        if  0 < income < 92000:\n",
    "            return 'ниже средного'\n",
    "        elif 9200 <= income <= 184000:\n",
    "            return 'срений'\n",
    "        elif income > 184000:\n",
    "            return 'высокий'\n",
    "        return 'без дохода'\n",
    "    except:\n",
    "        return 'Неопределено'\n",
    "    \n",
    "\"\"\"\"\n",
    "Returns the group by Income value using the rules:\n",
    "- 'below average' for Income values from 0 to 92,000\n",
    "- 'average' for Income from 92 000 to 184 000\n",
    "- 'high' when Income is more than 200,000\n",
    "- 'no income' in all other cases\n",
    "\"\"\"\n",
    "#Application of the loan purpose segregation function\n",
    "data['purpose_group'] = data['purpose_lemmas'].apply(purpose_group)\n",
    "print(data['purpose_group'].value_counts())\n",
    "print(purpose_group('NaN'),'\\n\\n')\n",
    "\n",
    "#Application of the loan purpose segregation function\n",
    "data['age_group'] = data['dob_years'].apply(age_group)\n",
    "print(data['age_group'].value_counts())\n",
    "print(age_group('NaN'), '\\n\\n')\n",
    "\n",
    "#Application of the income splitting function\n",
    "data['income_group'] = data['total_income'].apply(income_group)\n",
    "print(data['income_group'].value_counts())\n",
    "print(income_group('None') , '\\n\\n')"
   ]
  },
  {
   "cell_type": "markdown",
   "metadata": {},
   "source": [
    "### Output"
   ]
  },
  {
   "cell_type": "markdown",
   "metadata": {},
   "source": [
    "The vocabulary - purpose of the loan 'purpose_group', it was divided into four categories - car loan, real estate, wedding and education. Also the dictionary with age groups 'age_group' - minors under 18, young people from 18 to 30, adults from 31 to 64 and pensioners over 64. The third vocabulary of income level 'income_group' - below average less than 92000, average income from 90000 to 184000 and high income over 184000. I chose the threshold of 92000 according to the Rosstat value of average salary in Moscow for 2019. \n",
    "\n",
    "When defining categorization functions, we used try and except methods to avoid code errors when the value is outside the specified range."
   ]
  },
  {
   "cell_type": "markdown",
   "metadata": {},
   "source": [
    "<font color='green'> Link : https://www.sokolovpro.ru/2019/07/srednyaya-zarplata-v-moskve-na-2019-god-po-dannym-rosstata-svezhie-dannye.html\n",
    "    "
   ]
  },
  {
   "cell_type": "markdown",
   "metadata": {},
   "source": [
    "### Step 3. Answers"
   ]
  },
  {
   "cell_type": "markdown",
   "metadata": {},
   "source": [
    "- Is there a correlation between having children and paying back the loan on time?"
   ]
  },
  {
   "cell_type": "code",
   "execution_count": 19,
   "metadata": {
    "scrolled": true
   },
   "outputs": [
    {
     "name": "stdout",
     "output_type": "stream",
     "text": [
      "              0     1     ratio\n",
      "children                       \n",
      " 20          68     8  0.105263\n",
      " 4           37     4  0.097561\n",
      " 2         1858   194  0.094542\n",
      " 1         4365   444  0.092327\n",
      " 3          303    27  0.081818\n",
      " 0        13044  1063  0.075353\n",
      "-1           46     1  0.021277\n",
      " 5            9     0  0.000000\n",
      "\n",
      "Порцент клиентов которые не возврашают кредит: 7.10%\n"
     ]
    }
   ],
   "source": [
    "# Creating a credit category\n",
    "data['debt_category'] = data['debt']\n",
    "\n",
    "# Dictionary Number of children and loan repayment\n",
    "children_dict= data.pivot_table(index = 'children' ,  columns = 'debt', values ='debt_category' , aggfunc={'debt_category': 'count'}, fill_value = 0)\n",
    "children_dict.set_axis(['0','1'], axis = 1, inplace =True)\n",
    "children_dict['ratio'] = children_dict['1'] / (children_dict['0'] + children_dict['1'])\n",
    "\n",
    "#Conclusion of presence of children and loan repayment coefficient\n",
    "print(children_dict.sort_values(by = 'ratio' , ascending = False))\n",
    "\n",
    "print()\n",
    "\n",
    "print('Porcent that dosent retun the loan: {:.2%}'.format(children_dict['ratio'].mean()))\n"
   ]
  },
  {
   "cell_type": "markdown",
   "metadata": {},
   "source": [
    "### Output"
   ]
  },
  {
   "cell_type": "markdown",
   "metadata": {},
   "source": [
    "From the obtained result we can conclude that borrowers with children repay loans worse than borrowers without children. An interesting observation is that among borrowers with children, those with 3 children repay their loans best of all, while those with 1 or 2 children repay them worse. This may be due to the state support that large families receive, it is also relevant to note that the number of families with one or two children is 10 times more than with three or more. "
   ]
  },
  {
   "cell_type": "markdown",
   "metadata": {},
   "source": [
    "- Is there a correlation between marital status and loan repayment on time?"
   ]
  },
  {
   "cell_type": "code",
   "execution_count": 18,
   "metadata": {},
   "outputs": [
    {
     "name": "stdout",
     "output_type": "stream",
     "text": [
      "                           0    1     ratio\n",
      "family_status                              \n",
      "Не женат / не замужем   2536  274  0.097509\n",
      "гражданский брак        3775  388  0.093202\n",
      "женат / замужем        11413  931  0.075421\n",
      "в разводе               1110   85  0.071130\n",
      "вдовец / вдова           896   63  0.065693\n",
      "\n",
      "Порцент клиентов которые не возврашают кредит: 8.06%\n"
     ]
    }
   ],
   "source": [
    "#Creating the marital status feature\n",
    "data['family_status_category'] = data['family_status']\n",
    "\n",
    "# Vocabulary family situation and loan repayment\n",
    "family_dict= data.pivot_table(index = 'family_status' ,  columns = 'debt', values ='debt_category' , aggfunc={'debt_category': 'count'}, fill_value = 0)\n",
    "family_dict.set_axis(['0','1'], axis = 1, inplace =True)\n",
    "family_dict['ratio'] = family_dict['1'] / (family_dict['0'] + family_dict['1'])\n",
    "\n",
    "print(family_dict.sort_values(by = 'ratio' , ascending = False))\n",
    "\n",
    "print()\n",
    "print('Порцент клиентов которые не возврашают кредит: {:.2%}'.format(family_dict['ratio'].mean()))\n"
   ]
  },
  {
   "cell_type": "markdown",
   "metadata": {},
   "source": [
    "Clients with the marital status \"single / single\" and \"common-law marriage\" have the highest credit repayment arrears. And the best repayers are those with the marital status \"widower / widow\". Most likely, this trend is due to the fact that borrowers in common-law marriage or not married/not married are more likely to change their life circumstances."
   ]
  },
  {
   "cell_type": "markdown",
   "metadata": {},
   "source": [
    "- Is there a correlation between income level and loan repayment on time?"
   ]
  },
  {
   "cell_type": "code",
   "execution_count": 21,
   "metadata": {},
   "outputs": [
    {
     "name": "stdout",
     "output_type": "stream",
     "text": [
      "                   0    1     ratio\n",
      "income_group                       \n",
      "срений         10751  997  0.084866\n",
      "ниже средного   3280  284  0.079686\n",
      "высокий         5699  460  0.074687\n",
      "\n",
      "Порцент клиентов которые не возврашают кредит : 8.06%\n"
     ]
    }
   ],
   "source": [
    "#Dictionary availability of debt from income group\n",
    "\n",
    "income_dict = data.pivot_table(index = 'income_group' ,  columns = 'debt', values ='debt_category' , aggfunc={'debt_category': 'count'}, fill_value = 0)\n",
    "income_dict.set_axis(['0','1'], axis = 1, inplace =True)\n",
    "income_dict['ratio'] = income_dict['1'] / (income_dict['0'] + income_dict['1'])\n",
    "\n",
    "print(income_dict.sort_values(by = 'ratio' , ascending = False))\n",
    "\n",
    "print()\n",
    "print('Порцент клиентов которые не возврашают кредит : {:.2%}'.format(family_dict['ratio'].mean()))"
   ]
  },
  {
   "cell_type": "markdown",
   "metadata": {},
   "source": [
    "### Output"
   ]
  },
  {
   "cell_type": "markdown",
   "metadata": {},
   "source": [
    "Clients with average income (income from 92,000 to 182,000 rubles) have a worse loan repayment rate. And clients with high income are better at repaying loans. "
   ]
  },
  {
   "cell_type": "markdown",
   "metadata": {},
   "source": [
    "- How do the different purposes of a loan affect its repayment on time?"
   ]
  },
  {
   "cell_type": "code",
   "execution_count": 22,
   "metadata": {},
   "outputs": [
    {
     "name": "stdout",
     "output_type": "stream",
     "text": [
      "                  0    1     ratio\n",
      "purpose_group                     \n",
      "автокредит     3905  403  0.093547\n",
      "образование    3644  370  0.092177\n",
      "свадьба        2149  186  0.079657\n",
      "нeдвижимость   4153  308  0.069043\n",
      "\n",
      "Порцент клиентов которые не возврашают кредит : 8.36%\n"
     ]
    }
   ],
   "source": [
    "# \n",
    "purpose_dict = data.pivot_table(index = 'purpose_group' ,  columns = 'debt', values ='debt_category' , aggfunc={'debt_category': 'count'}, fill_value = 0)\n",
    "purpose_dict.set_axis(['0','1'], axis = 1, inplace =True)\n",
    "purpose_dict['ratio'] = purpose_dict['1'] / (purpose_dict['0'] + purpose_dict['1'])\n",
    "\n",
    "print(purpose_dict.sort_values(by = 'ratio' , ascending = False))\n",
    "\n",
    "print()\n",
    "print('Порцент клиентов которые не возврашают кредит : {:.2%}'.format(purpose_dict['ratio'].mean()))"
   ]
  },
  {
   "cell_type": "markdown",
   "metadata": {},
   "source": [
    "### Output"
   ]
  },
  {
   "cell_type": "markdown",
   "metadata": {},
   "source": [
    "Those clients who have taken out car loans are more indebted to repay the loans. More reliable loans are those that were directed to real estate."
   ]
  },
  {
   "cell_type": "markdown",
   "metadata": {},
   "source": [
    "## Step 4: General conclusion"
   ]
  },
  {
   "cell_type": "markdown",
   "metadata": {},
   "source": [
    "From the obtained results we can say that clients with average income, with the status of \"single / single\" or \"common-law marriage\" who take a loan for the purpose of \"education\" or \"car loan\" present a greater risk of arrears on loan repayment. On the other hand, borrowers without children with a marital status \"married\" who take loans for real estate or wedding.\n",
    "\n",
    "As it seems to me better repay loans to those who have few children, married and believes the loan on real estate with a lower average income. And more indebtedness on repayment of loans have borrowers who take a loan for a car or education, are not married or in a common-law marriage with an average level of income. </font>"
   ]
  },
  {
   "cell_type": "code",
   "execution_count": null,
   "metadata": {},
   "outputs": [],
   "source": []
  }
 ],
 "metadata": {
  "kernelspec": {
   "display_name": "Python 3 (ipykernel)",
   "language": "python",
   "name": "python3"
  },
  "language_info": {
   "codemirror_mode": {
    "name": "ipython",
    "version": 3
   },
   "file_extension": ".py",
   "mimetype": "text/x-python",
   "name": "python",
   "nbconvert_exporter": "python",
   "pygments_lexer": "ipython3",
   "version": "3.11.4"
  }
 },
 "nbformat": 4,
 "nbformat_minor": 2
}
